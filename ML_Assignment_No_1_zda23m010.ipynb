{
  "nbformat": 4,
  "nbformat_minor": 0,
  "metadata": {
    "colab": {
      "provenance": []
    },
    "kernelspec": {
      "name": "python3",
      "display_name": "Python 3"
    },
    "language_info": {
      "name": "python"
    }
  },
  "cells": [
    {
      "cell_type": "code",
      "execution_count": 2,
      "metadata": {
        "id": "fKKgLWJYu3s_"
      },
      "outputs": [],
      "source": [
        "# Importing necessary libraries\n",
        "import numpy as np\n",
        "import matplotlib.pyplot as plt\n",
        "from sklearn.datasets import fetch_openml\n",
        "from sklearn.model_selection import train_test_split\n",
        "from sklearn.preprocessing import StandardScaler\n",
        "from sklearn.svm import SVC\n",
        "from sklearn.linear_model import LogisticRegression\n",
        "from sklearn.tree import DecisionTreeClassifier\n",
        "from sklearn.ensemble import RandomForestClassifier\n",
        "from sklearn.neighbors import KNeighborsClassifier\n",
        "from sklearn.metrics import accuracy_score, precision_score, recall_score, f1_score, confusion_matrix\n"
      ]
    },
    {
      "cell_type": "code",
      "source": [
        "# Load MNIST dataset\n",
        "mnist = fetch_openml('mnist_784')\n",
        "\n",
        "# Convert DataFrame to NumPy array and reshape images\n",
        "X = mnist.data.values.reshape(-1, 28, 28) / 255.0  # Reshape and normalize pixel values\n",
        "y = mnist.target.astype(int)  # by using int instead of np.int\n"
      ],
      "metadata": {
        "colab": {
          "base_uri": "https://localhost:8080/",
          "height": 0
        },
        "id": "u2q3K_cjTFox",
        "outputId": "e91783a8-37ee-407e-d957-1cd315721368"
      },
      "execution_count": 3,
      "outputs": [
        {
          "output_type": "stream",
          "name": "stderr",
          "text": [
            "/usr/local/lib/python3.10/dist-packages/sklearn/datasets/_openml.py:968: FutureWarning: The default value of `parser` will change from `'liac-arff'` to `'auto'` in 1.4. You can set `parser='auto'` to silence this warning. Therefore, an `ImportError` will be raised from 1.4 if the dataset is dense and pandas is not installed. Note that the pandas parser may return different data types. See the Notes Section in fetch_openml's API doc for details.\n",
            "  warn(\n"
          ]
        }
      ]
    },
    {
      "cell_type": "code",
      "source": [
        "# Display a few sample images and corresponding labels\n",
        "plt.figure(figsize=(8, 4))\n",
        "for i in range(7):\n",
        "    plt.subplot(1, 7, i+1)\n",
        "    plt.imshow(X[i], cmap='gray')\n",
        "    plt.title(f\"Label: {y[i]}\")\n",
        "    plt.axis('off')\n",
        "plt.show()\n"
      ],
      "metadata": {
        "colab": {
          "base_uri": "https://localhost:8080/",
          "height": 134
        },
        "id": "pPd1lyDwTL0b",
        "outputId": "7b5bf2e9-974e-46ae-ac25-5ced00de9223"
      },
      "execution_count": 5,
      "outputs": [
        {
          "output_type": "display_data",
          "data": {
            "text/plain": [
              "<Figure size 800x400 with 7 Axes>"
            ],
            "image/png": "[encoded data removed]"
          },
          "metadata": {}
        }
      ]
    },
    {
      "cell_type": "code",
      "source": [
        "# Vectorize data\n",
        "X = X.reshape(-1, 28*28)\n"
      ],
      "metadata": {
        "id": "z3Xnf_GMTPPS"
      },
      "execution_count": 6,
      "outputs": []
    },
    {
      "cell_type": "code",
      "source": [
        "# Data splitting\n",
        "splits = [(0.8, 0.2), (0.5, 0.5), (0.2, 0.8), (0.01, 0.99)]\n",
        "\n",
        "for train_size, test_size in splits:\n",
        "    X_train, X_test, y_train, y_test = train_test_split(X, y, train_size=train_size, test_size=test_size, random_state=42)\n"
      ],
      "metadata": {
        "id": "pg6ccOeETTNh"
      },
      "execution_count": 7,
      "outputs": []
    },
    {
      "cell_type": "code",
      "source": [
        "\n",
        "    # Preprocessing step: Standardization\n",
        "    scaler = StandardScaler()\n",
        "    X_train_scaled = scaler.fit_transform(X_train)\n",
        "    X_test_scaled = scaler.transform(X_test)\n",
        "\n",
        "    # Model selection and training\n",
        "    models = {\n",
        "        'Support Vector Machine': SVC(),\n",
        "        'Logistic Regression': LogisticRegression(max_iter=1000),\n",
        "        'Decision Tree': DecisionTreeClassifier(),\n",
        "        'Random Forest': RandomForestClassifier(),\n",
        "        'K-Nearest Neighbors': KNeighborsClassifier()\n",
        "    }\n",
        "\n",
        "    for name, model in models.items():\n",
        "        model.fit(X_train_scaled, y_train)  # Train model using standardized data\n",
        "        y_pred = model.predict(X_test_scaled)\n",
        "\n",
        "        # Model evaluation\n",
        "        accuracy = accuracy_score(y_test, y_pred)\n",
        "        precision = precision_score(y_test, y_pred, average='weighted')\n",
        "        recall = recall_score(y_test, y_pred, average='weighted')\n",
        "        f1 = f1_score(y_test, y_pred, average='weighted')\n",
        "        confusion_mat = confusion_matrix(y_test, y_pred)\n",
        "\n",
        "        print(f\"Split: {train_size}:{test_size}, Model: {name}\")\n",
        "        print(f\"Accuracy: {accuracy}, Precision: {precision}, Recall: {recall}, F1-score: {f1}\")\n",
        "        print(\"Confusion Matrix:\")\n",
        "        print(confusion_mat)\n",
        "        print(\"\\n\")\n"
      ],
      "metadata": {
        "colab": {
          "base_uri": "https://localhost:8080/",
          "height": 0
        },
        "id": "WurSGOWgTa01",
        "outputId": "4c60c2a3-64a0-4a84-a1a1-61ea16a60ab4"
      },
      "execution_count": 9,
      "outputs": [
        {
          "output_type": "stream",
          "name": "stdout",
          "text": [
            "Split: 0.01:0.99, Model: Support Vector Machine\n",
            "Accuracy: 0.836002886002886, Precision: 0.8535863812789046, Recall: 0.836002886002886, F1-score: 0.8393295033209686\n",
            "Confusion Matrix:\n",
            "[[6288    2  188   24   17   66  178    3   60   13]\n",
            " [   0 7565   69   38    4   26   28    6   50    9]\n",
            " [  58  131 6015  193  106    8   98   63  235   11]\n",
            " [  24  107  630 5585   18  183   34   82  337   75]\n",
            " [   4   37  417    1 5670   90   56   14   31  445]\n",
            " [  56   56  600  279   67 4821  191    8  123   45]\n",
            " [  79   33  578    2   43   33 6017    0   14    1]\n",
            " [  23  106 1404   11  116   16   17 5095   74  365]\n",
            " [  41  205  346  375   42  281   95   16 5270   76]\n",
            " [  42   54  442   73  293   35    4  245   91 5609]]\n",
            "\n",
            "\n",
            "Split: 0.01:0.99, Model: Logistic Regression\n",
            "Accuracy: 0.8456565656565657, Precision: 0.8458526213174833, Recall: 0.8456565656565657, F1-score: 0.8447519072477752\n",
            "Confusion Matrix:\n",
            "[[6363    1   68   34   20   84  205    5   36   23]\n",
            " [   1 7596   37   24   15   36   27    9   30   20]\n",
            " [  95  236 5293  299  128   20  287  118  385   57]\n",
            " [  27  126  168 5741   25  363   61  124  329  111]\n",
            " [   8   59   55   15 5794   44   85   53   91  561]\n",
            " [ 108   99   53  230  140 4946  255   31  310   74]\n",
            " [  72   38  169    7   74   49 6343   12   34    2]\n",
            " [  53  188  130   54  132   21    8 5906   91  644]\n",
            " [  39  354   82  440   82  334  131   28 5170   87]\n",
            " [  67   74  219  101  430   89   10  235  211 5452]]\n",
            "\n",
            "\n",
            "Split: 0.01:0.99, Model: Decision Tree\n",
            "Accuracy: 0.6368975468975469, Precision: 0.6375747710827289, Recall: 0.6368975468975469, F1-score: 0.6348475895049402\n",
            "Confusion Matrix:\n",
            "[[5690   11   64   80   34  106  609    9  141   95]\n",
            " [   3 6416   62  288  205  213   80  152  150  226]\n",
            " [ 249  547 3378  338  314  563  649  169  513  198]\n",
            " [  76  296  266 3604  277  876  210  304  553  613]\n",
            " [ 122   95  107  417 4709  147  208  180  233  547]\n",
            " [ 375  122  137  947  219 3057  490   98  407  394]\n",
            " [ 298   61  376  206  393  404 4464    8  421  169]\n",
            " [ 277   92  469  252  294   89  201 4858  224  471]\n",
            " [ 203  533  210  644  247  583  399  239 3311  378]\n",
            " [ 103   68  101  453  849  134   50  215  265 4650]]\n",
            "\n",
            "\n",
            "Split: 0.01:0.99, Model: Random Forest\n",
            "Accuracy: 0.8731890331890332, Precision: 0.8744976032050024, Recall: 0.8731890331890332, F1-score: 0.872370402271372\n",
            "Confusion Matrix:\n",
            "[[6501    3   23   24   11   28  172    1   69    7]\n",
            " [   1 7622   27   16    5   25   27   30   40    2]\n",
            " [  88  391 5460  234   77   17  249  157  207   38]\n",
            " [  50  167  128 5923   19  284   39  109  243  113]\n",
            " [  15   53   19    7 5841   14  151   15   82  568]\n",
            " [ 129  127   14  432  110 5107  198   12   72   45]\n",
            " [  85   54   31    9   67   38 6505    1   10    0]\n",
            " [ 120  161  150   19  119   19    3 6334   74  228]\n",
            " [  19  263   60  505   68  129  132   20 5451  100]\n",
            " [  59   63   33  135  441   65   16  182  126 5768]]\n",
            "\n",
            "\n",
            "Split: 0.01:0.99, Model: K-Nearest Neighbors\n",
            "Accuracy: 0.8018759018759019, Precision: 0.8112773897506554, Recall: 0.8018759018759019, F1-score: 0.8001033544235142\n",
            "Confusion Matrix:\n",
            "[[6545   16   19   27   31   43  115    3   19   21]\n",
            " [   1 7738   18    6    6    0   13    5    5    3]\n",
            " [ 242  827 4677  431  197   29  136  176  178   25]\n",
            " [  88  470   98 5489   30  236   29  151  308  176]\n",
            " [  30  362   30   14 5505   97   26   66   23  612]\n",
            " [ 197  372   34  569  144 4417  218   28  158  109]\n",
            " [ 307  158   92   10  136   52 6022    1   18    4]\n",
            " [  23  408   31   36  190   10   10 5579   25  915]\n",
            " [ 171  636   56  470   83  460   78   33 4655  105]\n",
            " [  69  171   40   66  724   24    2  793   56 4943]]\n",
            "\n",
            "\n"
          ]
        }
      ]
    },
    {
      "cell_type": "markdown",
      "source": [
        "The first block of code,  of code imports all the necessary libraries for the task at hand and include fetch_openml from sklearn.datasets to load the MNIST dataset\n",
        "\n",
        "The scond block of code, the MNIST dataset is loaded using fetch_openml. The images are reshaped to a 28x28 grid and normalized by dividing by 255 to scale pixel values between 0 and 1. The labels are converted to integers\n",
        "\n",
        "The third block of code visualizes seven sample images from the dataset along with their corresponding labels.\n",
        "\n",
        "The forth block of code, the images are flattened into 1D arrays for training machine learning models\n",
        "\n",
        "The fifth block of code, splits the data into training and testing sets using train_test_split. It iterates over different combinations of train-test splits defined in the splits list.\n",
        "\n",
        "The last block of code, contain model training, evaluation, and printing of evaluation metrics for each model and split combination and also standardize the features, train multiple models on the training data, and evaluate each model's performance on the corresponding test data for each split configuration."
      ],
      "metadata": {
        "id": "L4xPtu5ZX21N"
      }
    }
  ]
}